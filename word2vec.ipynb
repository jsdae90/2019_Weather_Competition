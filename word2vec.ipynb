{
  "nbformat": 4,
  "nbformat_minor": 0,
  "metadata": {
    "colab": {
      "name": "word2vec.ipynb",
      "version": "0.3.2",
      "provenance": [],
      "collapsed_sections": [],
      "include_colab_link": true
    },
    "kernelspec": {
      "name": "python3",
      "display_name": "Python 3"
    }
  },
  "cells": [
    {
      "cell_type": "markdown",
      "metadata": {
        "id": "view-in-github",
        "colab_type": "text"
      },
      "source": [
        "<a href=\"https://colab.research.google.com/github/jsdae90/2019_Weather_Competition/blob/master/word2vec.ipynb\" target=\"_parent\"><img src=\"https://colab.research.google.com/assets/colab-badge.svg\" alt=\"Open In Colab\"/></a>"
      ]
    },
    {
      "cell_type": "code",
      "metadata": {
        "id": "7b1DsVhCBeAj",
        "colab_type": "code",
        "colab": {
          "base_uri": "https://localhost:8080/",
          "height": 124
        },
        "outputId": "7e381169-c815-4a9e-ca28-f2e26a7677ee"
      },
      "source": [
        "!git clone https://github.com/supportchelsea/Weather-Competition.git"
      ],
      "execution_count": 2,
      "outputs": [
        {
          "output_type": "stream",
          "text": [
            "Cloning into 'Weather-Competition'...\n",
            "remote: Enumerating objects: 20, done.\u001b[K\n",
            "remote: Counting objects: 100% (20/20), done.\u001b[K\n",
            "remote: Compressing objects: 100% (19/19), done.\u001b[K\n",
            "remote: Total 20 (delta 1), reused 0 (delta 0), pack-reused 0\u001b[K\n",
            "Unpacking objects: 100% (20/20), done.\n"
          ],
          "name": "stdout"
        }
      ]
    },
    {
      "cell_type": "code",
      "metadata": {
        "id": "nwelZVT0Gb6U",
        "colab_type": "code",
        "colab": {
          "base_uri": "https://localhost:8080/",
          "height": 70
        },
        "outputId": "b67987d5-8623-4a15-de52-f9c7b8c148e6"
      },
      "source": [
        "ls -ltr"
      ],
      "execution_count": 3,
      "outputs": [
        {
          "output_type": "stream",
          "text": [
            "total 8\n",
            "drwxr-xr-x 1 root root 4096 Jul  3 16:14 \u001b[0m\u001b[01;34msample_data\u001b[0m/\n",
            "drwxr-xr-x 4 root root 4096 Jul 12 10:10 \u001b[01;34mWeather-Competition\u001b[0m/\n"
          ],
          "name": "stdout"
        }
      ]
    },
    {
      "cell_type": "code",
      "metadata": {
        "id": "Y_W7ZExbHBNs",
        "colab_type": "code",
        "colab": {
          "base_uri": "https://localhost:8080/",
          "height": 177
        },
        "outputId": "768f9830-1c0e-4171-e173-ba2618788b7f"
      },
      "source": [
        "!pip install konlpy\n",
        "!pip install customized_konlpy"
      ],
      "execution_count": 76,
      "outputs": [
        {
          "output_type": "stream",
          "text": [
            "Requirement already satisfied: konlpy in /usr/local/lib/python3.6/dist-packages (0.5.1)\n",
            "Requirement already satisfied: JPype1>=0.5.7 in /usr/local/lib/python3.6/dist-packages (from konlpy) (0.7.0)\n",
            "Collecting customized_konlpy\n",
            "\u001b[?25l  Downloading https://files.pythonhosted.org/packages/07/8c/d39c483b637a6d85ab2d6da50012810628982bbd5279818bdc5dd1e7da51/customized_konlpy-0.0.64-py3-none-any.whl (881kB)\n",
            "\u001b[K     |████████████████████████████████| 890kB 5.0MB/s \n",
            "\u001b[?25hRequirement already satisfied: Jpype1>=0.6.1 in /usr/local/lib/python3.6/dist-packages (from customized_konlpy) (0.7.0)\n",
            "Requirement already satisfied: konlpy>=0.4.4 in /usr/local/lib/python3.6/dist-packages (from customized_konlpy) (0.5.1)\n",
            "Installing collected packages: customized-konlpy\n",
            "Successfully installed customized-konlpy-0.0.64\n"
          ],
          "name": "stdout"
        }
      ]
    },
    {
      "cell_type": "code",
      "metadata": {
        "id": "QnIfuma_G-Ss",
        "colab_type": "code",
        "colab": {}
      },
      "source": [
        "from konlpy.tag import Kkma\n",
        "from konlpy.utils import pprint\n",
        "from konlpy.tag import Okt\n",
        "from ckonlpy.tag import Twitter\n",
        "\n",
        "# twitter.add_dictionary('아이오아이', 'Noun')\n",
        "# twitter.add_dictionary(['트와이스', 'tt'], 'Noun')"
      ],
      "execution_count": 0,
      "outputs": []
    },
    {
      "cell_type": "code",
      "metadata": {
        "id": "Jr38a93EBqSd",
        "colab_type": "code",
        "colab": {}
      },
      "source": [
        "import pandas as pd\n",
        "import numpy as np\n",
        "\n",
        "import os"
      ],
      "execution_count": 0,
      "outputs": []
    },
    {
      "cell_type": "code",
      "metadata": {
        "id": "LjkghZneytNW",
        "colab_type": "code",
        "colab": {}
      },
      "source": [
        "categories = {'네일' : ['네일', '세일'], '립컬러' : ['틴트', '립스틱','립무스', '립펜슬' ], '립케어' : ['립오일','립밤','립글로즈'], '마스크팩':['마스크팩'], '바디로션':['바디로션'], '선케어':['선크림','선스틱','선쿠션','썬크림','썬스틱','썬쿠션'], '제모제':['제모제', '왁싱패치', '제모크림', '왁스스트립'], '체중조절':['체중조절', '다이어트간식' , '다이어트바'], '크림로션':['스킨', '토너', '로션', '에센스','수분크림'], '훼이셜클렌저':['클렌징', '아이리무버', '클렌저']}\n",
        "categories = [j for i in categories.values() for j in i]\n",
        "\n",
        "twitter = Twitter()\n",
        "twitter.add_dictionary(categories, 'Noun')"
      ],
      "execution_count": 0,
      "outputs": []
    },
    {
      "cell_type": "code",
      "metadata": {
        "id": "mNQB1XE_BtCM",
        "colab_type": "code",
        "colab": {
          "base_uri": "https://localhost:8080/",
          "height": 212
        },
        "outputId": "b3c68cd1-b4d6-4b03-a755-2fbf11112591"
      },
      "source": [
        "path = 'Weather-Competition/sns data/'\n",
        "os.listdir(path)"
      ],
      "execution_count": 93,
      "outputs": [
        {
          "output_type": "execute_result",
          "data": {
            "text/plain": [
              "['suncare_2018.csv',\n",
              " 'lalavla_2018.csv',\n",
              " 'mask_2018.csv',\n",
              " 'lipcolor_2018.csv',\n",
              " 'diet_2018.csv',\n",
              " 'lipcare_2018.csv',\n",
              " 'hairremoval_2018.csv',\n",
              " 'cleanser_2018.csv',\n",
              " 'creamlotion_2018.csv',\n",
              " 'bodylotion_2018.csv',\n",
              " 'nail_2018.csv']"
            ]
          },
          "metadata": {
            "tags": []
          },
          "execution_count": 93
        }
      ]
    },
    {
      "cell_type": "code",
      "metadata": {
        "id": "Bo4yxRATGfA7",
        "colab_type": "code",
        "colab": {}
      },
      "source": [
        "suncare= pd.read_csv(path+'lalavla_2018.csv').iloc[:, 1:]\n",
        "# suncare = suncare.fillna('')"
      ],
      "execution_count": 0,
      "outputs": []
    },
    {
      "cell_type": "code",
      "metadata": {
        "id": "C6lV7SsFNonH",
        "colab_type": "code",
        "colab": {}
      },
      "source": [
        ""
      ],
      "execution_count": 0,
      "outputs": []
    },
    {
      "cell_type": "code",
      "metadata": {
        "id": "GdGXwgJfIh0v",
        "colab_type": "code",
        "colab": {}
      },
      "source": [
        "list_corpus = []\n",
        "\n",
        "for date in suncare.columns:\n",
        "  \n",
        "  for unit in suncare[date].dropna().tolist():\n",
        "  \n",
        "    temp_corpus = twitter.pos(unit)\n",
        "\n",
        "    temp_corpus = [tag[0] for tag in temp_corpus if tag[1]=='Noun' and len(tag[0])>1]\n",
        "\n",
        "    list_corpus.append(temp_corpus)"
      ],
      "execution_count": 0,
      "outputs": []
    },
    {
      "cell_type": "code",
      "metadata": {
        "id": "I3lqpACXE2If",
        "colab_type": "code",
        "colab": {}
      },
      "source": [
        "from gensim.models import word2vec"
      ],
      "execution_count": 0,
      "outputs": []
    },
    {
      "cell_type": "code",
      "metadata": {
        "id": "gPzW2Cg4Ajmv",
        "colab_type": "code",
        "colab": {}
      },
      "source": [
        "word2vec_model = word2vec.Word2Vec(list_corpus)"
      ],
      "execution_count": 0,
      "outputs": []
    },
    {
      "cell_type": "code",
      "metadata": {
        "id": "MY5gTd1LAjqO",
        "colab_type": "code",
        "colab": {
          "base_uri": "https://localhost:8080/",
          "height": 286
        },
        "outputId": "d61b6692-1dea-4ff0-d3f9-ff4da269c25f"
      },
      "source": [
        "word2vec_model.most_similar('쿠폰')"
      ],
      "execution_count": 337,
      "outputs": [
        {
          "output_type": "stream",
          "text": [
            "/usr/local/lib/python3.6/dist-packages/ipykernel_launcher.py:1: DeprecationWarning: Call to deprecated `most_similar` (Method will be removed in 4.0.0, use self.wv.most_similar() instead).\n",
            "  \"\"\"Entry point for launching an IPython kernel.\n",
            "/usr/local/lib/python3.6/dist-packages/gensim/matutils.py:737: FutureWarning: Conversion of the second argument of issubdtype from `int` to `np.signedinteger` is deprecated. In future, it will be treated as `np.int64 == np.dtype(int).type`.\n",
            "  if np.issubdtype(vec.dtype, np.int):\n"
          ],
          "name": "stderr"
        },
        {
          "output_type": "execute_result",
          "data": {
            "text/plain": [
              "[('매장', 0.9832841157913208),\n",
              " ('랩노', 0.9828864336013794),\n",
              " ('올리브영', 0.9828387498855591),\n",
              " ('어요', 0.9822997450828552),\n",
              " ('할인', 0.9819331169128418),\n",
              " ('제품', 0.9815679788589478),\n",
              " ('황민', 0.9813913106918335),\n",
              " ('다가', 0.9813750982284546),\n",
              " ('만원', 0.9812233448028564),\n",
              " ('행사', 0.9812189340591431)]"
            ]
          },
          "metadata": {
            "tags": []
          },
          "execution_count": 337
        }
      ]
    },
    {
      "cell_type": "code",
      "metadata": {
        "id": "yNLAjljXAjxQ",
        "colab_type": "code",
        "colab": {
          "base_uri": "https://localhost:8080/",
          "height": 195
        },
        "outputId": "6d80baf6-ac41-4c7b-8b62-4f28771dfac5"
      },
      "source": [
        "list_corpus[:10]"
      ],
      "execution_count": 321,
      "outputs": [
        {
          "output_type": "execute_result",
          "data": {
            "text/plain": [
              "[['쇼발'],\n",
              " ['인성', '세일', '이면', '마다', '세일'],\n",
              " ['적응', '왓슨스', '브랜드', '변경', '추진', '다음', '뉴스'],\n",
              " ['진짜', '블라됨', '직원', '행사', '안녕', '부랄'],\n",
              " [],\n",
              " ['먕그님', '알바생', '화이팅'],\n",
              " ['디자인', '사람', '라라라'],\n",
              " ['구들', '저기', '자고', '이제', '갈래', '래야', '어요', '웃음', '진짜'],\n",
              " ['이름', '난잡', '만우절', '진심'],\n",
              " ['그거', '장난', '충격', '하트']]"
            ]
          },
          "metadata": {
            "tags": []
          },
          "execution_count": 321
        }
      ]
    },
    {
      "cell_type": "code",
      "metadata": {
        "id": "oPvsBdvQAj0w",
        "colab_type": "code",
        "colab": {}
      },
      "source": [
        ""
      ],
      "execution_count": 0,
      "outputs": []
    },
    {
      "cell_type": "code",
      "metadata": {
        "id": "ixogrO7GqPxy",
        "colab_type": "code",
        "colab": {}
      },
      "source": [
        ""
      ],
      "execution_count": 0,
      "outputs": []
    }
  ]
}