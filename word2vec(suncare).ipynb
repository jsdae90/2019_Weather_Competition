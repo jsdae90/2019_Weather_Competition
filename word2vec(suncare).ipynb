{
  "nbformat": 4,
  "nbformat_minor": 0,
  "metadata": {
    "colab": {
      "name": "word2vec(suncare)",
      "version": "0.3.2",
      "provenance": [],
      "collapsed_sections": [],
      "include_colab_link": true
    },
    "kernelspec": {
      "name": "python3",
      "display_name": "Python 3"
    }
  },
  "cells": [
    {
      "cell_type": "markdown",
      "metadata": {
        "id": "view-in-github",
        "colab_type": "text"
      },
      "source": [
        "<a href=\"https://colab.research.google.com/github/jsdae90/2019_Weather_Competition/blob/master/word2vec(suncare).ipynb\" target=\"_parent\"><img src=\"https://colab.research.google.com/assets/colab-badge.svg\" alt=\"Open In Colab\"/></a>"
      ]
    },
    {
      "cell_type": "code",
      "metadata": {
        "id": "7b1DsVhCBeAj",
        "colab_type": "code",
        "outputId": "0834ec78-c345-4a16-dfe9-62d842eab5a6",
        "colab": {
          "base_uri": "https://localhost:8080/",
          "height": 125
        }
      },
      "source": [
        "!git clone https://github.com/supportchelsea/Weather-Competition.git"
      ],
      "execution_count": 0,
      "outputs": [
        {
          "output_type": "stream",
          "text": [
            "Cloning into 'Weather-Competition'...\n",
            "remote: Enumerating objects: 42, done.\u001b[K\n",
            "remote: Counting objects: 100% (42/42), done.\u001b[K\n",
            "remote: Compressing objects: 100% (41/41), done.\u001b[K\n",
            "remote: Total 42 (delta 12), reused 0 (delta 0), pack-reused 0\u001b[K\n",
            "Unpacking objects: 100% (42/42), done.\n"
          ],
          "name": "stdout"
        }
      ]
    },
    {
      "cell_type": "code",
      "metadata": {
        "id": "nwelZVT0Gb6U",
        "colab_type": "code",
        "outputId": "5a3232a0-a311-4f4f-f899-c9f71bedb13d",
        "colab": {
          "base_uri": "https://localhost:8080/",
          "height": 71
        }
      },
      "source": [
        "ls -ltr"
      ],
      "execution_count": 0,
      "outputs": [
        {
          "output_type": "stream",
          "text": [
            "total 8\n",
            "drwxr-xr-x 1 root root 4096 Jul  3 16:14 \u001b[0m\u001b[01;34msample_data\u001b[0m/\n",
            "drwxr-xr-x 5 root root 4096 Jul 21 14:29 \u001b[01;34mWeather-Competition\u001b[0m/\n"
          ],
          "name": "stdout"
        }
      ]
    },
    {
      "cell_type": "code",
      "metadata": {
        "id": "k1ZNd5N-qZrU",
        "colab_type": "code",
        "colab": {}
      },
      "source": [
        "# 최고온도/최저온도\n",
        "# 상위5% [20180802.0, 20180801.0, 20180803.0, 20180731.0, 20180730.0, 20180815.0, 20180814.0, 20180729.0, 20180723.0, 20180724.0, 20180722.0, 20180804.0, 20180808.0, 20180727.0, 20180810.0, 20180807.0, 20180813.0, 20180811.0, 20180812.0, 20180806.0] \n",
        "#  하위5% [20180203.0, 20181209.0, 20181229.0, 20180110.0, 20181230.0, 20181208.0, 20180129.0, 20180207.0, 20180205.0, 20180204.0, 20181227.0, 20180206.0, 20180112.0, 20181228.0, 20180127.0, 20180111.0, 20180123.0, 20180125.0, 20180124.0, 20180126.0]"
      ],
      "execution_count": 0,
      "outputs": []
    },
    {
      "cell_type": "code",
      "metadata": {
        "id": "K3lGaVF_qbbT",
        "colab_type": "code",
        "colab": {}
      },
      "source": [
        "# 최고습도/최저습도\n",
        "# 상위5% [20180517.0, 20180701.0, 20180828.0, 20180702.0, 20181108.0, 20180516.0, 20180827.0, 20180315.0, 20180423.0, 20180512.0, 20181203.0, 20180921.0, 20180626.0, 20180824.0, 20180502.0, 20180710.0, 20180405.0, 20180829.0, 20180304.0, 20180506.0] \n",
        "#  하위5% [20180128.0, 20181128.0, 20181226.0, 20180205.0, 20180206.0, 20180412.0, 20180126.0, 20181228.0, 20181208.0, 20181207.0, 20181209.0, 20180125.0, 20180221.0, 20180218.0, 20180124.0, 20181229.0, 20180215.0, 20180413.0, 20180217.0, 20181227.0]"
      ],
      "execution_count": 0,
      "outputs": []
    },
    {
      "cell_type": "code",
      "metadata": {
        "id": "qcLoYDEsqy56",
        "colab_type": "code",
        "colab": {}
      },
      "source": [
        "# 비온날\n",
        "# [20180122.0, 20180223.0, 20180228.0, 20180301.0, 20180304.0, 20180305.0, 20180308.0, 20180315.0, 20180318.0, 20180319.0, 20180321.0, 20180404.0, 20180405.0, 20180406.0, 20180408.0, 20180410.0,\n",
        "#  20180414.0, 20180422.0, 20180423.0, 20180424.0, 20180502.0, 20180503.0, 20180506.0, 20180512.0, 20180516.0, 20180517.0, 20180518.0, 20180522.0, 20180523.0, 20180529.0, 20180530.0, 20180609.0, 20180610.0, 20180611.0,\n",
        "#  20180614.0, 20180615.0, 20180626.0, 20180628.0, 20180629.0, 20180630.0, 20180701.0, 20180702.0, 20180703.0, 20180705.0, 20180709.0, 20180710.0, 20180711.0, 20180728.0, 20180805.0, 20180806.0, 20180809.0, 20180812.0, 20180813.0,\n",
        "#  20180815.0, 20180821.0, 20180823.0, 20180824.0, 20180826.0, 20180827.0, 20180828.0, 20180829.0, 20180830.0, 20180903.0, 20180906.0, 20180907.0, 20180915.0, 20180916.0, 20180920.0, 20180921.0, 20180922.0, 20181005.0, 20181006.0,\n",
        "#  20181010.0, 20181023.0, 20181026.0, 20181028.0, 20181107.0, 20181108.0, 20181121.0, 20181124.0, 20181203.0, 20181204.0]"
      ],
      "execution_count": 0,
      "outputs": []
    },
    {
      "cell_type": "code",
      "metadata": {
        "id": "rTEgF1dtx9Cz",
        "colab_type": "code",
        "outputId": "1051f501-ad7b-40f3-f489-9620beccc67e",
        "colab": {
          "base_uri": "https://localhost:8080/",
          "height": 341
        }
      },
      "source": [
        "!apt-get update -qq\n",
        "!apt-get install fonts-nanum* -qq"
      ],
      "execution_count": 0,
      "outputs": [
        {
          "output_type": "stream",
          "text": [
            "Selecting previously unselected package fonts-nanum.\n",
            "(Reading database ... \r(Reading database ... 5%\r(Reading database ... 10%\r(Reading database ... 15%\r(Reading database ... 20%\r(Reading database ... 25%\r(Reading database ... 30%\r(Reading database ... 35%\r(Reading database ... 40%\r(Reading database ... 45%\r(Reading database ... 50%\r(Reading database ... 55%\r(Reading database ... 60%\r(Reading database ... 65%\r(Reading database ... 70%\r(Reading database ... 75%\r(Reading database ... 80%\r(Reading database ... 85%\r(Reading database ... 90%\r(Reading database ... 95%\r(Reading database ... 100%\r(Reading database ... 130963 files and directories currently installed.)\n",
            "Preparing to unpack .../fonts-nanum_20170925-1_all.deb ...\n",
            "Unpacking fonts-nanum (20170925-1) ...\n",
            "Selecting previously unselected package fonts-nanum-eco.\n",
            "Preparing to unpack .../fonts-nanum-eco_1.000-6_all.deb ...\n",
            "Unpacking fonts-nanum-eco (1.000-6) ...\n",
            "Selecting previously unselected package fonts-nanum-extra.\n",
            "Preparing to unpack .../fonts-nanum-extra_20170925-1_all.deb ...\n",
            "Unpacking fonts-nanum-extra (20170925-1) ...\n",
            "Selecting previously unselected package fonts-nanum-coding.\n",
            "Preparing to unpack .../fonts-nanum-coding_2.5-1_all.deb ...\n",
            "Unpacking fonts-nanum-coding (2.5-1) ...\n",
            "Setting up fonts-nanum-extra (20170925-1) ...\n",
            "Setting up fonts-nanum (20170925-1) ...\n",
            "Setting up fonts-nanum-coding (2.5-1) ...\n",
            "Setting up fonts-nanum-eco (1.000-6) ...\n",
            "Processing triggers for fontconfig (2.12.6-0ubuntu2) ...\n"
          ],
          "name": "stdout"
        }
      ]
    },
    {
      "cell_type": "code",
      "metadata": {
        "id": "Jr38a93EBqSd",
        "colab_type": "code",
        "colab": {}
      },
      "source": [
        "import pandas as pd\n",
        "import numpy as np\n",
        "\n",
        "import os"
      ],
      "execution_count": 0,
      "outputs": []
    },
    {
      "cell_type": "code",
      "metadata": {
        "id": "sttXWx3Wr3cR",
        "colab_type": "code",
        "outputId": "68293e00-d096-467e-86ec-b4e3c5f863bf",
        "colab": {
          "base_uri": "https://localhost:8080/",
          "height": 287
        }
      },
      "source": [
        "!pip install konlpy\n",
        "!pip install customized_konlpy"
      ],
      "execution_count": 0,
      "outputs": [
        {
          "output_type": "stream",
          "text": [
            "Collecting konlpy\n",
            "\u001b[?25l  Downloading https://files.pythonhosted.org/packages/e5/3d/4e983cd98d87b50b2ab0387d73fa946f745aa8164e8888a714d5129f9765/konlpy-0.5.1-py2.py3-none-any.whl (19.4MB)\n",
            "\u001b[K     |████████████████████████████████| 19.4MB 2.5MB/s \n",
            "\u001b[?25hCollecting JPype1>=0.5.7 (from konlpy)\n",
            "\u001b[?25l  Downloading https://files.pythonhosted.org/packages/07/09/e19ce27d41d4f66d73ac5b6c6a188c51b506f56c7bfbe6c1491db2d15995/JPype1-0.7.0-cp36-cp36m-manylinux2010_x86_64.whl (2.7MB)\n",
            "\u001b[K     |████████████████████████████████| 2.7MB 33.9MB/s \n",
            "\u001b[?25hInstalling collected packages: JPype1, konlpy\n",
            "Successfully installed JPype1-0.7.0 konlpy-0.5.1\n",
            "Collecting customized_konlpy\n",
            "\u001b[?25l  Downloading https://files.pythonhosted.org/packages/07/8c/d39c483b637a6d85ab2d6da50012810628982bbd5279818bdc5dd1e7da51/customized_konlpy-0.0.64-py3-none-any.whl (881kB)\n",
            "\u001b[K     |████████████████████████████████| 890kB 2.7MB/s \n",
            "\u001b[?25hRequirement already satisfied: konlpy>=0.4.4 in /usr/local/lib/python3.6/dist-packages (from customized_konlpy) (0.5.1)\n",
            "Requirement already satisfied: Jpype1>=0.6.1 in /usr/local/lib/python3.6/dist-packages (from customized_konlpy) (0.7.0)\n",
            "Installing collected packages: customized-konlpy\n",
            "Successfully installed customized-konlpy-0.0.64\n"
          ],
          "name": "stdout"
        }
      ]
    },
    {
      "cell_type": "code",
      "metadata": {
        "id": "QnIfuma_G-Ss",
        "colab_type": "code",
        "colab": {}
      },
      "source": [
        "#from konlpy.tag import Kkma\n",
        "from konlpy.utils import pprint\n",
        "#from konlpy.tag import Okt\n",
        "from ckonlpy.tag import Twitter\n",
        "from gensim.models import word2vec"
      ],
      "execution_count": 0,
      "outputs": []
    },
    {
      "cell_type": "code",
      "metadata": {
        "id": "-AjGXSc64O6x",
        "colab_type": "code",
        "colab": {}
      },
      "source": [
        "# set global random seed\n",
        "import random\n",
        "def seed_everything(seed):\n",
        "    random.seed(seed)\n",
        "    os.environ['PYTHONHASHSEED'] = str(seed)\n",
        "    np.random.seed(seed)\n",
        "#     torch.manual_seed(seed)\n",
        "#     torch.cuda.manual_seed(seed)\n",
        "#     torch.backends.cudnn.deterministic = True\n",
        "\n",
        "SEED = 2019\n",
        "seed_everything(SEED)"
      ],
      "execution_count": 0,
      "outputs": []
    },
    {
      "cell_type": "code",
      "metadata": {
        "id": "kKlI-YcBx_s4",
        "colab_type": "code",
        "outputId": "192946d8-478b-418f-b569-e0dbc2942d9e",
        "colab": {
          "base_uri": "https://localhost:8080/",
          "height": 35
        }
      },
      "source": [
        "import matplotlib as mpl  # 기본 설정 만지는 용도\n",
        "import matplotlib.pyplot as plt  # 그래프 그리는 용도\n",
        "import matplotlib.font_manager as fm  # 폰트 관련 용도\n",
        "\n",
        "path = '/usr/share/fonts/truetype/nanum/NanumGothicEco.ttf'  # 설치된 나눔글꼴중 원하는 녀석의 전체 경로를 가져오자\n",
        "font_name = fm.FontProperties(fname=path, size=10).get_name()\n",
        "print(font_name)\n",
        "plt.rc('font', family=font_name)\n",
        "\n",
        "# 우선 fm._rebuild() 를 해주고\n",
        "fm._rebuild()\n",
        "mpl.rcParams['axes.unicode_minus'] = False"
      ],
      "execution_count": 0,
      "outputs": [
        {
          "output_type": "stream",
          "text": [
            "NanumGothic Eco\n"
          ],
          "name": "stdout"
        }
      ]
    },
    {
      "cell_type": "code",
      "metadata": {
        "id": "LjkghZneytNW",
        "colab_type": "code",
        "outputId": "e8250d1b-8c1e-4271-fd77-08a8163bbd4b",
        "colab": {
          "base_uri": "https://localhost:8080/",
          "height": 53
        }
      },
      "source": [
        "categories = {'네일' : ['네일', '세일'], '립컬러' : ['틴트', '립스틱','립무스', '립펜슬' ], '립케어' : ['립오일','립밤','립글로즈'], '마스크팩':['마스크팩'], '바디로션':['바디로션'], '선케어':['선크림','선스틱','선쿠션','썬크림','썬스틱','썬쿠션'], '제모제':['제모제', '왁싱패치', '제모크림', '왁스스트립'], '체중조절':['체중조절', '다이어트간식' , '다이어트바'], '크림로션':['스킨', '토너', '로션', '에센스','수분크림'], '훼이셜클렌저':['클렌징', '아이리무버', '클렌저']}\n",
        "categories = [j for i in categories.values() for j in i]\n",
        "\n",
        "twitter = Twitter()\n",
        "twitter.add_dictionary(categories, 'Noun')\n",
        "twitter.add_dictionary(['아이소이', '브라이트닝', '닥터림스', '알로에', '네이처 리퍼블릭','마테카소이드','랑콤','로레알 UV','지성','건성','기능성','우드버리','아넷사','라비오뜨','데오드란트'], 'Noun')"
      ],
      "execution_count": 0,
      "outputs": [
        {
          "output_type": "stream",
          "text": [
            "/usr/local/lib/python3.6/dist-packages/konlpy/tag/_okt.py:16: UserWarning: \"Twitter\" has changed to \"Okt\" since KoNLPy v0.4.5.\n",
            "  warn('\"Twitter\" has changed to \"Okt\" since KoNLPy v0.4.5.')\n"
          ],
          "name": "stderr"
        }
      ]
    },
    {
      "cell_type": "code",
      "metadata": {
        "id": "mNQB1XE_BtCM",
        "colab_type": "code",
        "outputId": "a9c6cb54-ce6a-42c7-c77f-42e32ba40da7",
        "colab": {
          "base_uri": "https://localhost:8080/",
          "height": 215
        }
      },
      "source": [
        "path = 'Weather-Competition/sns data/'\n",
        "os.listdir(path)"
      ],
      "execution_count": 0,
      "outputs": [
        {
          "output_type": "execute_result",
          "data": {
            "text/plain": [
              "['hairremoval_2018.csv',\n",
              " 'nail_2018.csv',\n",
              " 'suncare_2018.csv',\n",
              " 'bodylotion_2018.csv',\n",
              " 'lipcolor_2018.csv',\n",
              " 'lalavla_2018.csv',\n",
              " 'cleanser_2018.csv',\n",
              " 'mask_2018.csv',\n",
              " 'creamlotion_2018.csv',\n",
              " 'diet_2018.csv',\n",
              " 'lipcare_2018.csv']"
            ]
          },
          "metadata": {
            "tags": []
          },
          "execution_count": 14
        }
      ]
    },
    {
      "cell_type": "code",
      "metadata": {
        "id": "Bo4yxRATGfA7",
        "colab_type": "code",
        "colab": {}
      },
      "source": [
        "suncare= pd.read_csv(path+'suncare_2018.csv').iloc[:, 1:]\n",
        "# suncare = suncare.fillna('')"
      ],
      "execution_count": 0,
      "outputs": []
    },
    {
      "cell_type": "code",
      "metadata": {
        "id": "26dhMFlw071P",
        "colab_type": "code",
        "colab": {}
      },
      "source": [
        "a = []\n",
        "for i in suncare.columns:\n",
        "  a.append(str(i).replace(\"-\",\"\"))"
      ],
      "execution_count": 0,
      "outputs": []
    },
    {
      "cell_type": "code",
      "metadata": {
        "id": "b8bGRWTu2dlW",
        "colab_type": "code",
        "colab": {}
      },
      "source": [
        "suncare.columns = a"
      ],
      "execution_count": 0,
      "outputs": []
    },
    {
      "cell_type": "code",
      "metadata": {
        "id": "_KYgmpH6z7qH",
        "colab_type": "code",
        "colab": {}
      },
      "source": [
        "high_temp = [20180802.0, 20180801.0, 20180803.0, 20180731.0, 20180730.0, 20180815.0, 20180814.0, 20180729.0, 20180723.0, 20180724.0, 20180722.0, 20180804.0, 20180808.0, 20180727.0, 20180810.0, 20180807.0, 20180813.0, 20180811.0, 20180812.0, 20180806.0]\n",
        "high_temp = [str(i)[:-2] for i in high_temp]"
      ],
      "execution_count": 0,
      "outputs": []
    },
    {
      "cell_type": "code",
      "metadata": {
        "id": "Yv5WfpJ32a__",
        "colab_type": "code",
        "colab": {}
      },
      "source": [
        "low_temp = [20180203.0, 20181209.0, 20181229.0, 20180110.0, 20181230.0, 20181208.0, 20180129.0, 20180207.0, 20180205.0, 20180204.0, 20181227.0, 20180206.0, 20180112.0, 20181228.0, 20180127.0, 20180111.0, 20180123.0, 20180125.0, 20180124.0, 20180126.0]\n",
        "low_temp = [str(i)[:-2] for i in low_temp]"
      ],
      "execution_count": 0,
      "outputs": []
    },
    {
      "cell_type": "code",
      "metadata": {
        "id": "_nEOMfyw321f",
        "colab_type": "code",
        "colab": {}
      },
      "source": [
        "high_hu = [20180517.0, 20180701.0, 20180828.0, 20180702.0, 20181108.0, 20180516.0, 20180827.0, 20180315.0, 20180423.0, 20180512.0, 20181203.0, 20180921.0, 20180626.0, 20180824.0, 20180502.0, 20180710.0, 20180405.0, 20180829.0, 20180304.0, 20180506.0] \n",
        "high_hu = [str(i)[:-2] for i in high_hu]"
      ],
      "execution_count": 0,
      "outputs": []
    },
    {
      "cell_type": "code",
      "metadata": {
        "id": "23xQyYJo4CF3",
        "colab_type": "code",
        "colab": {}
      },
      "source": [
        "low_hu = [20180128.0, 20181128.0, 20181226.0, 20180205.0, 20180206.0, 20180412.0, 20180126.0, 20181228.0, 20181208.0, 20181207.0, 20181209.0, 20180125.0, 20180221.0, 20180218.0, 20180124.0, 20181229.0, 20180215.0, 20180413.0, 20180217.0, 20181227.0]\n",
        "low_hu = [str(i)[:-2] for i in low_hu]"
      ],
      "execution_count": 0,
      "outputs": []
    },
    {
      "cell_type": "code",
      "metadata": {
        "id": "HYqb2fS58VLU",
        "colab_type": "code",
        "colab": {}
      },
      "source": [
        "rainy = [20180122.0, 20180223.0, 20180228.0, 20180301.0, 20180304.0, 20180305.0, 20180308.0, 20180315.0, 20180318.0, 20180319.0, 20180321.0, 20180404.0, 20180405.0, 20180406.0, 20180408.0, 20180410.0,\n",
        "         20180414.0, 20180422.0, 20180423.0, 20180424.0, 20180502.0, 20180503.0, 20180506.0, 20180512.0, 20180516.0, 20180517.0, 20180518.0, 20180522.0, 20180523.0, 20180529.0, 20180530.0, 20180609.0, 20180610.0, 20180611.0,\n",
        "         20180614.0, 20180615.0, 20180626.0, 20180628.0, 20180629.0, 20180630.0, 20180701.0, 20180702.0, 20180703.0, 20180705.0, 20180709.0, 20180710.0, 20180711.0, 20180728.0, 20180805.0, 20180806.0, 20180809.0, 20180812.0, 20180813.0,\n",
        "         20180815.0, 20180821.0, 20180823.0, 20180824.0, 20180826.0, 20180827.0, 20180828.0, 20180829.0, 20180830.0, 20180903.0, 20180906.0, 20180907.0, 20180915.0, 20180916.0, 20180920.0, 20180921.0, 20180922.0, 20181005.0, 20181006.0,\n",
        "         20181010.0, 20181023.0, 20181026.0, 20181028.0, 20181107.0, 20181108.0, 20181121.0, 20181124.0, 20181203.0, 20181204.0]\n",
        "rainy = [str(i)[:-2] for i in rainy]"
      ],
      "execution_count": 0,
      "outputs": []
    },
    {
      "cell_type": "code",
      "metadata": {
        "id": "-UCo4oJT3A2m",
        "colab_type": "code",
        "colab": {}
      },
      "source": [
        "suncare_high_temp = suncare[high_temp]\n",
        "suncare_low_temp = suncare[low_temp]\n",
        "suncare_high_hu = suncare[high_hu]\n",
        "suncare_low_hu = suncare[low_hu]\n",
        "suncare_rainy = suncare[rainy]"
      ],
      "execution_count": 0,
      "outputs": []
    },
    {
      "cell_type": "code",
      "metadata": {
        "id": "2YmnxP7G0R5m",
        "colab_type": "code",
        "colab": {}
      },
      "source": [
        "# suncare.columns = [str(i)[:7] for i in suncare.columns]"
      ],
      "execution_count": 0,
      "outputs": []
    },
    {
      "cell_type": "code",
      "metadata": {
        "id": "caap1EyR0fG_",
        "colab_type": "code",
        "colab": {}
      },
      "source": [
        "# suncare = suncare[['2018-01', '2018-02']]\n",
        "# suncare.columns = [i for i in range(len(suncare.columns))]"
      ],
      "execution_count": 0,
      "outputs": []
    },
    {
      "cell_type": "code",
      "metadata": {
        "id": "o7cpUYx9zZFs",
        "colab_type": "code",
        "colab": {}
      },
      "source": [
        "#전체 \n",
        "list_corpus = []\n",
        "for date in suncare.columns:\n",
        "  \n",
        "  for unit in suncare[date].dropna().tolist():\n",
        "  \n",
        "    unit = unit.replace('선크림', '썬크림').replace('선스틱', '썬스틱').replace('쿠션','썬쿠션').replace('선쿠션','썬쿠션').replace('케어','썬케어')\n",
        "    temp_corpus = twitter.pos(unit)\n",
        "\n",
        "    temp_corpus = [tag[0] for tag in temp_corpus if tag[1]=='Noun' and len(tag[0])>1]\n",
        "\n",
        "    list_corpus.append(temp_corpus)"
      ],
      "execution_count": 0,
      "outputs": []
    },
    {
      "cell_type": "code",
      "metadata": {
        "id": "GdGXwgJfIh0v",
        "colab_type": "code",
        "colab": {}
      },
      "source": [
        "# 높은 온도\n",
        "list_corpus_1 = []\n",
        "for date in suncare_high_temp.columns:\n",
        "  \n",
        "  for unit in suncare_high_temp[date].dropna().tolist():\n",
        "  \n",
        "    unit = unit.replace('선크림', '썬크림').replace('선스틱', '썬스틱').replace('쿠션','썬쿠션').replace('선쿠션','썬쿠션').replace('케어','썬케어')\n",
        "    temp_corpus = twitter.pos(unit)\n",
        "\n",
        "    temp_corpus = [tag[0] for tag in temp_corpus if tag[1]=='Noun' and len(tag[0])>1]\n",
        "\n",
        "    list_corpus_1.append(temp_corpus)"
      ],
      "execution_count": 0,
      "outputs": []
    },
    {
      "cell_type": "code",
      "metadata": {
        "id": "qkgKZlbUBwvQ",
        "colab_type": "code",
        "colab": {}
      },
      "source": [
        "# 낮은 온도\n",
        "list_corpus_2 = []\n",
        "for date in suncare_low_temp.columns:\n",
        "  \n",
        "  for unit in suncare_low_temp[date].dropna().tolist():\n",
        "  \n",
        "    unit = unit.replace('선크림', '썬크림').replace('선스틱', '썬스틱').replace('쿠션','썬쿠션').replace('선쿠션','썬쿠션').replace('케어','썬케어')\n",
        "    temp_corpus = twitter.pos(unit)\n",
        "\n",
        "    temp_corpus = [tag[0] for tag in temp_corpus if tag[1]=='Noun' and len(tag[0])>1]\n",
        "\n",
        "    list_corpus_2.append(temp_corpus)"
      ],
      "execution_count": 0,
      "outputs": []
    },
    {
      "cell_type": "code",
      "metadata": {
        "id": "qDyd_INiBw0q",
        "colab_type": "code",
        "colab": {}
      },
      "source": [
        "# 높은 습도\n",
        "list_corpus_3 = []\n",
        "for date in suncare_high_hu.columns:\n",
        "  \n",
        "  for unit in suncare_high_hu[date].dropna().tolist():\n",
        "  \n",
        "    unit = unit.replace('선크림', '썬크림').replace('선스틱', '썬스틱').replace('쿠션','썬쿠션').replace('선쿠션','썬쿠션').replace('케어','썬케어')\n",
        "    temp_corpus = twitter.pos(unit)\n",
        "\n",
        "    temp_corpus = [tag[0] for tag in temp_corpus if tag[1]=='Noun' and len(tag[0])>1]\n",
        "\n",
        "    list_corpus_3.append(temp_corpus)"
      ],
      "execution_count": 0,
      "outputs": []
    },
    {
      "cell_type": "code",
      "metadata": {
        "id": "BZ3SinMrBw8G",
        "colab_type": "code",
        "colab": {}
      },
      "source": [
        "# 낮은 습도\n",
        "list_corpus_4 = []\n",
        "for date in suncare_low_hu.columns:\n",
        "  \n",
        "  for unit in suncare_low_hu[date].dropna().tolist():\n",
        "  \n",
        "    unit = unit.replace('선크림', '썬크림').replace('선스틱', '썬스틱').replace('쿠션','썬쿠션').replace('선쿠션','썬쿠션').replace('케어','썬케어')\n",
        "    temp_corpus = twitter.pos(unit)\n",
        "\n",
        "    temp_corpus = [tag[0] for tag in temp_corpus if tag[1]=='Noun' and len(tag[0])>1]\n",
        "\n",
        "    list_corpus_4.append(temp_corpus)"
      ],
      "execution_count": 0,
      "outputs": []
    },
    {
      "cell_type": "code",
      "metadata": {
        "id": "1lPLFExhBxd3",
        "colab_type": "code",
        "colab": {}
      },
      "source": [
        "# 비오는 날\n",
        "list_corpus_5 = []\n",
        "for date in suncare_rainy.columns:\n",
        "  \n",
        "  for unit in suncare_rainy[date].dropna().tolist():\n",
        "  \n",
        "    unit = unit.replace('선크림', '썬크림').replace('선스틱', '썬스틱').replace('쿠션','썬쿠션').replace('선쿠션','썬쿠션').replace('케어','썬케어')\n",
        "    temp_corpus = twitter.pos(unit)\n",
        "\n",
        "    temp_corpus = [tag[0] for tag in temp_corpus if tag[1]=='Noun' and len(tag[0])>1]\n",
        "\n",
        "    list_corpus_5.append(temp_corpus)"
      ],
      "execution_count": 0,
      "outputs": []
    },
    {
      "cell_type": "code",
      "metadata": {
        "id": "Pu1HDtwezzoM",
        "colab_type": "code",
        "colab": {}
      },
      "source": [
        ""
      ],
      "execution_count": 0,
      "outputs": []
    },
    {
      "cell_type": "code",
      "metadata": {
        "id": "khZfFzDJLtF2",
        "colab_type": "code",
        "colab": {}
      },
      "source": [
        "# 전체\n",
        "remove_list = ['마키', '얼티', '우리', '처럼', '애매', '샀음', '이치', '집애', '거나', '님덜', '오오오', '당분간', '근래', '더러', '낫다', '좀더', '세상', '흐그규', '오오오', '크루', '삿음', '표현', '다소',\n",
        "              '나신', '이바', '갈라', '큐션', '파라', '구차', '마스터', '은데', '어피', '라이트닝', '완판', '가장', '홈쇼핑', '세이프', '선착순', '한정판', '사면', '포스터', '영상', '사원', '백호', '런칭', \n",
        "              '뉴이스트', '리페', '센텔', '블루', '교환', '핫딜', '한정', '메이킹', '뮤료', '혜택', '확인', '라비', '엑소', '태연', '브로마이드', '리뷰', '린지', '찬스', '카이', '티크', '진행중', '백현', '애프터',\n",
        "              '리뷰', '무료', '우리동네', '이지', '아보', '라오', '고민', '가기', '상태', '지나', '대박', '기도', '지우', '절대', '가능', '웃기', '난리', '최고','진짜','이나','하나','보고','더니','오늘','포피','요즘','지금',\n",
        "              '이요','싸이','부터','하니','다가','까지','케이','려면','나라','신천지','한기총','자차','비아그라','양으로','어서','어요','그냥','때문','면서','바스','해주','하루','코르셋','베이비','무기','대한민국','다누리',\n",
        "               '발라','레오','님들','느낌','아무','이번','정도','그거','해도','어가','아주','완전','마다','거의','일단','존나','이제','시작','시간','사실','정말','달라','래서','다행','먹기','거기','다른','사고','아아',\n",
        "              '지드래곤','누가','인피니트','빅뱅','오프','근처','랩노','투표','옹성','성열','황민','에스','저희','최애','다라','예전','부랄','가세','나중','자꾸','세븐','마크','스타','바로','재민','졸라','미미','이승기','끝내','내일','무슨',\n",
        "              '함무라비','팔로','최근','묭묭','이제','힘내','브이','도대체','약간','어제','오지','위협','자주','보신','신가','어디','동안','과자','현빈','드릴','가요','계속','판타지','아하','송지효','청와대','진정',\n",
        "              '안주','파파','리얼','무배','바이','멜로','젤리','아이크','아침','오랜만','환율','려고','교리','다시','살짝','지고','엽서','네이버']\n",
        "\n",
        "cleaning_list_corpus = []\n",
        "for corpus in list_corpus_1:\n",
        "  temp_corpus = pd.Series(corpus)[~pd.Series(corpus).isin(remove_list)].tolist()\n",
        "  \n",
        "  if len(temp_corpus)>2:\n",
        "    cleaning_list_corpus.append(temp_corpus)"
      ],
      "execution_count": 0,
      "outputs": []
    },
    {
      "cell_type": "code",
      "metadata": {
        "id": "mllxwB1qTawa",
        "colab_type": "code",
        "colab": {}
      },
      "source": [
        "# 높은 온도\n",
        "remove_list = ['마키', '얼티', '우리', '처럼', '애매', '샀음', '이치', '집애', '거나', '님덜', '오오오', '당분간', '근래', '더러', '낫다', '좀더', '세상', '흐그규', '오오오', '크루', '삿음', '표현', '다소',\n",
        "              '나신', '이바', '갈라', '큐션', '파라', '구차', '마스터', '은데', '어피', '라이트닝', '완판', '가장', '홈쇼핑', '세이프', '선착순', '한정판', '사면', '포스터', '영상', '사원', '백호', '런칭', \n",
        "              '뉴이스트', '리페', '센텔', '블루', '교환', '핫딜', '한정', '메이킹', '뮤료', '혜택', '확인', '라비', '엑소', '태연', '브로마이드', '리뷰', '린지', '찬스', '카이', '티크', '진행중', '백현', '애프터',\n",
        "              '리뷰', '무료', '우리동네', '이지', '아보', '라오', '고민', '가기', '상태', '지나', '대박', '기도', '지우', '절대', '가능', '웃기', '난리', '최고','진짜','이나','하나','보고','더니','오늘','포피','요즘','지금',\n",
        "              '이요','싸이','부터','하니','다가','까지','케이','려면','나라','신천지','한기총','자차','비아그라','양으로','어서','어요','그냥','때문','면서','바스','해주','하루','코르셋','베이비','무기','대한민국','다누리',\n",
        "               '발라','레오','님들','느낌','아무','이번','정도','그거','해도','어가','아주','완전','마다','거의','일단','존나','이제','시작','시간','사실','정말','달라','래서','다행','먹기','거기','다른','사고','아아',\n",
        "              '지드래곤','누가','인피니트','빅뱅','오프','근처','랩노','투표','옹성','성열','황민','에스','저희','최애','다라','예전','부랄','가세','나중','자꾸','세븐','마크','스타','바로','재민','졸라','미미','이승기','끝내','내일','무슨',\n",
        "              '함무라비','팔로','최근','묭묭','이제','힘내','브이','도대체','약간','어제','오지','위협','자주','보신','신가','어디','동안','과자','현빈','드릴','가요','계속','판타지','아하','송지효','청와대','진정',\n",
        "              '안주','파파','리얼','무배','바이','멜로','젤리','아이크','아침','오랜만','환율','려고','교리','다시','살짝','지고','엽서','네이버']\n",
        "\n",
        "cleaning_list_corpus_1 = []\n",
        "for corpus in list_corpus_1:\n",
        "  temp_corpus = pd.Series(corpus)[~pd.Series(corpus).isin(remove_list)].tolist()\n",
        "  \n",
        "  if len(temp_corpus)>2:\n",
        "    cleaning_list_corpus_1.append(temp_corpus)"
      ],
      "execution_count": 0,
      "outputs": []
    },
    {
      "cell_type": "code",
      "metadata": {
        "id": "OSCdnAmpalby",
        "colab_type": "code",
        "colab": {}
      },
      "source": [
        "# 낮은 온도\n",
        "remove_list = ['마키', '얼티', '우리', '처럼', '애매', '샀음', '이치', '집애', '거나', '님덜', '오오오', '당분간', '근래', '더러', '낫다', '좀더', '세상', '흐그규', '오오오', '크루', '삿음', '표현', '다소',\n",
        "              '나신', '이바', '갈라', '큐션', '파라', '구차', '마스터', '은데', '어피', '라이트닝', '완판', '가장', '홈쇼핑', '세이프', '선착순', '한정판', '사면', '포스터', '영상', '사원', '백호', '런칭', \n",
        "              '뉴이스트', '리페', '센텔', '블루', '교환', '핫딜', '한정', '메이킹', '뮤료', '혜택', '확인', '라비', '엑소', '태연', '브로마이드', '리뷰', '린지', '찬스', '카이', '티크', '진행중', '백현', '애프터',\n",
        "              '리뷰', '무료', '우리동네', '이지', '아보', '라오', '고민', '가기', '상태', '지나', '대박', '기도', '지우', '절대', '가능', '웃기', '난리', '최고','진짜','이나','하나','보고','더니','오늘','포피','요즘','지금',\n",
        "              '이요','싸이','부터','하니','다가','까지','케이','려면','나라','신천지','한기총','자차','비아그라','양으로','어서','어요','그냥','때문','면서','바스','해주','하루','코르셋','베이비','무기','대한민국','다누리',\n",
        "               '발라','레오','님들','느낌','아무','이번','정도','그거','해도','어가','아주','완전','마다','거의','일단','존나','이제','시작','시간','사실','정말','달라','래서','다행','먹기','거기','다른','사고','아아',\n",
        "              '지드래곤','누가','인피니트','빅뱅','오프','근처','랩노','투표','옹성','성열','황민','에스','저희','최애','다라','예전','부랄','가세','나중','자꾸','세븐','마크','스타','바로','재민','졸라','미미','이승기','끝내','내일','무슨',\n",
        "              '함무라비','팔로','최근','묭묭','이제','힘내','브이','도대체','약간','어제','오지','위협','자주','보신','신가','어디','동안','과자','현빈','드릴','가요','계속','판타지','아하','송지효','청와대','진정',\n",
        "              '안주','파파','리얼','무배','바이','멜로','젤리','아이크','아침','오랜만','환율','려고','교리','다시','살짝','지고','엽서','네이버']\n",
        "\n",
        "\n",
        "cleaning_list_corpus_2 = []\n",
        "for corpus in list_corpus_2:\n",
        "  temp_corpus = pd.Series(corpus)[~pd.Series(corpus).isin(remove_list)].tolist()\n",
        "  \n",
        "  if len(temp_corpus)>2:\n",
        "    cleaning_list_corpus_2.append(temp_corpus)"
      ],
      "execution_count": 0,
      "outputs": []
    },
    {
      "cell_type": "code",
      "metadata": {
        "id": "xiUEsBJLalhP",
        "colab_type": "code",
        "colab": {}
      },
      "source": [
        "# 높은 습도\n",
        "remove_list = ['마키', '얼티', '우리', '처럼', '애매', '샀음', '이치', '집애', '거나', '님덜', '오오오', '당분간', '근래', '더러', '낫다', '좀더', '세상', '흐그규', '오오오', '크루', '삿음', '표현', '다소',\n",
        "              '나신', '이바', '갈라', '큐션', '파라', '구차', '마스터', '은데', '어피', '라이트닝', '완판', '가장', '홈쇼핑', '세이프', '선착순', '한정판', '사면', '포스터', '영상', '사원', '백호', '런칭', \n",
        "              '뉴이스트', '리페', '센텔', '블루', '교환', '핫딜', '한정', '메이킹', '뮤료', '혜택', '확인', '라비', '엑소', '태연', '브로마이드', '리뷰', '린지', '찬스', '카이', '티크', '진행중', '백현', '애프터',\n",
        "              '리뷰', '무료', '우리동네', '이지', '아보', '라오', '고민', '가기', '상태', '지나', '대박', '기도', '지우', '절대', '가능', '웃기', '난리', '최고','진짜','이나','하나','보고','더니','오늘','포피','요즘','지금',\n",
        "              '이요','싸이','부터','하니','다가','까지','케이','려면','나라','신천지','한기총','자차','비아그라','양으로','어서','어요','그냥','때문','면서','바스','해주','하루','코르셋','베이비','무기','대한민국','다누리',\n",
        "               '발라','레오','님들','느낌','아무','이번','정도','그거','해도','어가','아주','완전','마다','거의','일단','존나','이제','시작','시간','사실','정말','달라','래서','다행','먹기','거기','다른','사고','아아',\n",
        "              '지드래곤','누가','인피니트','빅뱅','오프','근처','랩노','투표','옹성','성열','황민','에스','저희','최애','다라','예전','부랄','가세','나중','자꾸','세븐','마크','스타','바로','재민','졸라','미미','이승기','끝내','내일','무슨',\n",
        "              '함무라비','팔로','최근','묭묭','이제','힘내','브이','도대체','약간','어제','오지','위협','자주','보신','신가','어디','동안','과자','현빈','드릴','가요','계속','판타지','아하','송지효','청와대','진정',\n",
        "              '안주','파파','리얼','무배','바이','멜로','젤리','아이크','아침','오랜만','환율','려고','교리','다시','살짝','지고','엽서','네이버']\n",
        "\n",
        "\n",
        "cleaning_list_corpus_3 = []\n",
        "for corpus in list_corpus_3:\n",
        "  temp_corpus = pd.Series(corpus)[~pd.Series(corpus).isin(remove_list)].tolist()\n",
        "  \n",
        "  if len(temp_corpus)>2:\n",
        "    cleaning_list_corpus_3.append(temp_corpus)"
      ],
      "execution_count": 0,
      "outputs": []
    },
    {
      "cell_type": "code",
      "metadata": {
        "id": "Rx9rD8Aualnp",
        "colab_type": "code",
        "colab": {}
      },
      "source": [
        "# 낮은 습도\n",
        "remove_list = ['마키', '얼티', '우리', '처럼', '애매', '샀음', '이치', '집애', '거나', '님덜', '오오오', '당분간', '근래', '더러', '낫다', '좀더', '세상', '흐그규', '오오오', '크루', '삿음', '표현', '다소',\n",
        "              '나신', '이바', '갈라', '큐션', '파라', '구차', '마스터', '은데', '어피', '라이트닝', '완판', '가장', '홈쇼핑', '세이프', '선착순', '한정판', '사면', '포스터', '영상', '사원', '백호', '런칭', \n",
        "              '뉴이스트', '리페', '센텔', '블루', '교환', '핫딜', '한정', '메이킹', '뮤료', '혜택', '확인', '라비', '엑소', '태연', '브로마이드', '리뷰', '린지', '찬스', '카이', '티크', '진행중', '백현', '애프터',\n",
        "              '리뷰', '무료', '우리동네', '이지', '아보', '라오', '고민', '가기', '상태', '지나', '대박', '기도', '지우', '절대', '가능', '웃기', '난리', '최고','진짜','이나','하나','보고','더니','오늘','포피','요즘','지금',\n",
        "              '이요','싸이','부터','하니','다가','까지','케이','려면','나라','신천지','한기총','자차','비아그라','양으로','어서','어요','그냥','때문','면서','바스','해주','하루','코르셋','베이비','무기','대한민국','다누리',\n",
        "               '발라','레오','님들','느낌','아무','이번','정도','그거','해도','어가','아주','완전','마다','거의','일단','존나','이제','시작','시간','사실','정말','달라','래서','다행','먹기','거기','다른','사고','아아',\n",
        "              '지드래곤','누가','인피니트','빅뱅','오프','근처','랩노','투표','옹성','성열','황민','에스','저희','최애','다라','예전','부랄','가세','나중','자꾸','세븐','마크','스타','바로','재민','졸라','미미','이승기','끝내','내일','무슨',\n",
        "              '함무라비','팔로','최근','묭묭','이제','힘내','브이','도대체','약간','어제','오지','위협','자주','보신','신가','어디','동안','과자','현빈','드릴','가요','계속','판타지','아하','송지효','청와대','진정',\n",
        "              '안주','파파','리얼','무배','바이','멜로','젤리','아이크','아침','오랜만','환율','려고','교리','다시','살짝','지고','엽서','네이버']\n",
        "\n",
        "\n",
        "cleaning_list_corpus_4 = []\n",
        "for corpus in list_corpus_4:\n",
        "  temp_corpus = pd.Series(corpus)[~pd.Series(corpus).isin(remove_list)].tolist()\n",
        "  \n",
        "  if len(temp_corpus)>2:\n",
        "    cleaning_list_corpus_4.append(temp_corpus)"
      ],
      "execution_count": 0,
      "outputs": []
    },
    {
      "cell_type": "code",
      "metadata": {
        "id": "7pXELgP6alv3",
        "colab_type": "code",
        "colab": {}
      },
      "source": [
        "# 비오는 날\n",
        "remove_list = ['마키', '얼티', '우리', '처럼', '애매', '샀음', '이치', '집애', '거나', '님덜', '오오오', '당분간', '근래', '더러', '낫다', '좀더', '세상', '흐그규', '오오오', '크루', '삿음', '표현', '다소',\n",
        "              '나신', '이바', '갈라', '큐션', '파라', '구차', '마스터', '은데', '어피', '라이트닝', '완판', '가장', '홈쇼핑', '세이프', '선착순', '한정판', '사면', '포스터', '영상', '사원', '백호', '런칭', \n",
        "              '뉴이스트', '리페', '센텔', '블루', '교환', '핫딜', '한정', '메이킹', '뮤료', '혜택', '확인', '라비', '엑소', '태연', '브로마이드', '리뷰', '린지', '찬스', '카이', '티크', '진행중', '백현', '애프터',\n",
        "              '리뷰', '무료', '우리동네', '이지', '아보', '라오', '고민', '가기', '상태', '지나', '대박', '기도', '지우', '절대', '가능', '웃기', '난리', '최고','진짜','이나','하나','보고','더니','오늘','포피','요즘','지금',\n",
        "              '이요','싸이','부터','하니','다가','까지','케이','려면','나라','신천지','한기총','자차','비아그라','양으로','어서','어요','그냥','때문','면서','바스','해주','하루','코르셋','베이비','무기','대한민국','다누리',\n",
        "               '발라','레오','님들','느낌','아무','이번','정도','그거','해도','어가','아주','완전','마다','거의','일단','존나','이제','시작','시간','사실','정말','달라','래서','다행','먹기','거기','다른','사고','아아',\n",
        "              '지드래곤','누가','인피니트','빅뱅','오프','근처','랩노','투표','옹성','성열','황민','에스','저희','최애','다라','예전','부랄','가세','나중','자꾸','세븐','마크','스타','바로','재민','졸라','미미','이승기','끝내','내일','무슨',\n",
        "              '함무라비','팔로','최근','묭묭','이제','힘내','브이','도대체','약간','어제','오지','위협','자주','보신','신가','어디','동안','과자','현빈','드릴','가요','계속','판타지','아하','송지효','청와대','진정',\n",
        "              '안주','파파','리얼','무배','바이','멜로','젤리','아이크','아침','오랜만','환율','려고','교리','다시','살짝','지고','엽서','네이버']\n",
        "\n",
        "cleaning_list_corpus_5 = []\n",
        "for corpus in list_corpus_5:\n",
        "  temp_corpus = pd.Series(corpus)[~pd.Series(corpus).isin(remove_list)].tolist()\n",
        "  \n",
        "  if len(temp_corpus)>2:\n",
        "    cleaning_list_corpus_5.append(temp_corpus)"
      ],
      "execution_count": 0,
      "outputs": []
    },
    {
      "cell_type": "code",
      "metadata": {
        "id": "K24ZZKTX0Jp5",
        "colab_type": "code",
        "colab": {}
      },
      "source": [
        ""
      ],
      "execution_count": 0,
      "outputs": []
    },
    {
      "cell_type": "code",
      "metadata": {
        "id": "PIiOp-Yow5Od",
        "colab_type": "code",
        "colab": {}
      },
      "source": [
        "item_list_clean = pd.Series([j  for i in cleaning_list_corpus for j in i]).value_counts()[pd.Series([j  for i in cleaning_list_corpus for j in i]).value_counts()>27].index"
      ],
      "execution_count": 0,
      "outputs": []
    },
    {
      "cell_type": "code",
      "metadata": {
        "id": "NjwnOLsPw5RM",
        "colab_type": "code",
        "colab": {}
      },
      "source": [
        "item_list_clean_1 = pd.Series([j  for i in cleaning_list_corpus_1 for j in i]).value_counts()[pd.Series([j  for i in cleaning_list_corpus_1 for j in i]).value_counts()>27].index"
      ],
      "execution_count": 0,
      "outputs": []
    },
    {
      "cell_type": "code",
      "metadata": {
        "id": "qi_V1pzXbkU7",
        "colab_type": "code",
        "colab": {}
      },
      "source": [
        "item_list_clean_2 = pd.Series([j  for i in cleaning_list_corpus_2 for j in i]).value_counts()[pd.Series([j  for i in cleaning_list_corpus_2 for j in i]).value_counts()>28].index"
      ],
      "execution_count": 0,
      "outputs": []
    },
    {
      "cell_type": "code",
      "metadata": {
        "id": "Y3ceQfWLbkXh",
        "colab_type": "code",
        "colab": {}
      },
      "source": [
        "item_list_clean_3 = pd.Series([j  for i in cleaning_list_corpus_3 for j in i]).value_counts()[pd.Series([j  for i in cleaning_list_corpus_3 for j in i]).value_counts()>27].index"
      ],
      "execution_count": 0,
      "outputs": []
    },
    {
      "cell_type": "code",
      "metadata": {
        "id": "8-R8otcPw8Bl",
        "colab_type": "code",
        "colab": {}
      },
      "source": [
        "item_list_clean_4 = pd.Series([j  for i in cleaning_list_corpus_4 for j in i]).value_counts()[pd.Series([j  for i in cleaning_list_corpus_4 for j in i]).value_counts()>33].index"
      ],
      "execution_count": 0,
      "outputs": []
    },
    {
      "cell_type": "code",
      "metadata": {
        "id": "3v8C28Uyw8EV",
        "colab_type": "code",
        "colab": {}
      },
      "source": [
        "item_list_clean_5 = pd.Series([j  for i in cleaning_list_corpus_5 for j in i]).value_counts()[pd.Series([j  for i in cleaning_list_corpus_5 for j in i]).value_counts()>85].index"
      ],
      "execution_count": 0,
      "outputs": []
    },
    {
      "cell_type": "code",
      "metadata": {
        "id": "iYM5EThJw8HE",
        "colab_type": "code",
        "colab": {}
      },
      "source": [
        ""
      ],
      "execution_count": 0,
      "outputs": []
    },
    {
      "cell_type": "code",
      "metadata": {
        "id": "ztRmu69cw8J1",
        "colab_type": "code",
        "colab": {}
      },
      "source": [
        "cleaning_list_corpus2 = []\n",
        "for corpus in cleaning_list_corpus_1:\n",
        "  temp_corpus = pd.Series(corpus)[pd.Series(corpus).isin(item_list_clean_1)].tolist()\n",
        "  \n",
        "  if len(temp_corpus)>2:\n",
        "    cleaning_list_corpus2.append(temp_corpus)"
      ],
      "execution_count": 0,
      "outputs": []
    },
    {
      "cell_type": "code",
      "metadata": {
        "id": "An26XcvSu7xG",
        "colab_type": "code",
        "colab": {}
      },
      "source": [
        "cleaning_list_corpus2_1 = []\n",
        "for corpus in cleaning_list_corpus_1:\n",
        "  temp_corpus = pd.Series(corpus)[pd.Series(corpus).isin(item_list_clean_1)].tolist()\n",
        "  \n",
        "  if len(temp_corpus)>2:\n",
        "    cleaning_list_corpus2_1.append(temp_corpus)"
      ],
      "execution_count": 0,
      "outputs": []
    },
    {
      "cell_type": "code",
      "metadata": {
        "id": "8AIoVbxyxAis",
        "colab_type": "code",
        "colab": {}
      },
      "source": [
        "cleaning_list_corpus2_2 = []\n",
        "for corpus in cleaning_list_corpus_2:\n",
        "  temp_corpus = pd.Series(corpus)[pd.Series(corpus).isin(item_list_clean_2)].tolist()\n",
        "  \n",
        "  if len(temp_corpus)>2:\n",
        "    cleaning_list_corpus2_2.append(temp_corpus)"
      ],
      "execution_count": 0,
      "outputs": []
    },
    {
      "cell_type": "code",
      "metadata": {
        "id": "0YMKwbg9xAlF",
        "colab_type": "code",
        "colab": {}
      },
      "source": [
        "cleaning_list_corpus2_3 = []\n",
        "for corpus in cleaning_list_corpus_3:\n",
        "  temp_corpus = pd.Series(corpus)[pd.Series(corpus).isin(item_list_clean_3)].tolist()\n",
        "  \n",
        "  if len(temp_corpus)>2:\n",
        "    cleaning_list_corpus2_3.append(temp_corpus)"
      ],
      "execution_count": 0,
      "outputs": []
    },
    {
      "cell_type": "code",
      "metadata": {
        "id": "vLHWOoRyxAnj",
        "colab_type": "code",
        "colab": {}
      },
      "source": [
        "cleaning_list_corpus2_4 = []\n",
        "for corpus in cleaning_list_corpus_4:\n",
        "  temp_corpus = pd.Series(corpus)[pd.Series(corpus).isin(item_list_clean_4)].tolist()\n",
        "  \n",
        "  if len(temp_corpus)>2:\n",
        "    cleaning_list_corpus2_4.append(temp_corpus)"
      ],
      "execution_count": 0,
      "outputs": []
    },
    {
      "cell_type": "code",
      "metadata": {
        "id": "e3wD7M7CxAqK",
        "colab_type": "code",
        "colab": {}
      },
      "source": [
        "cleaning_list_corpus2_5 = []\n",
        "for corpus in cleaning_list_corpus_5:\n",
        "  temp_corpus = pd.Series(corpus)[pd.Series(corpus).isin(item_list_clean_5)].tolist()\n",
        "  \n",
        "  if len(temp_corpus)>2:\n",
        "    cleaning_list_corpus2_5.append(temp_corpus)"
      ],
      "execution_count": 0,
      "outputs": []
    },
    {
      "cell_type": "code",
      "metadata": {
        "id": "aNTl2d-fxAtE",
        "colab_type": "code",
        "colab": {}
      },
      "source": [
        ""
      ],
      "execution_count": 0,
      "outputs": []
    },
    {
      "cell_type": "code",
      "metadata": {
        "id": "3MRNiJIwxAzz",
        "colab_type": "code",
        "colab": {}
      },
      "source": [
        "word2vec_model = word2vec.Word2Vec(cleaning_list_corpus2, min_count=27)\n",
        "#word2vec_model.most_similar('선크림', topn=20)"
      ],
      "execution_count": 0,
      "outputs": []
    },
    {
      "cell_type": "code",
      "metadata": {
        "id": "gPzW2Cg4Ajmv",
        "colab_type": "code",
        "colab": {}
      },
      "source": [
        "word2vec_model_1 = word2vec.Word2Vec(cleaning_list_corpus2_1, min_count=27)\n",
        "#word2vec_model.most_similar('선크림', topn=20)"
      ],
      "execution_count": 0,
      "outputs": []
    },
    {
      "cell_type": "code",
      "metadata": {
        "id": "KYKrxPCHxKSt",
        "colab_type": "code",
        "colab": {}
      },
      "source": [
        "word2vec_model_2 = word2vec.Word2Vec(cleaning_list_corpus2_2, min_count=28)\n",
        "#word2vec_model.most_similar('마스크팩', topn=20)"
      ],
      "execution_count": 0,
      "outputs": []
    },
    {
      "cell_type": "code",
      "metadata": {
        "id": "JlwBpfxuxKVL",
        "colab_type": "code",
        "colab": {}
      },
      "source": [
        "word2vec_model_3 = word2vec.Word2Vec(cleaning_list_corpus2_3, min_count=27)\n",
        "#word2vec_model.most_similar('마스크팩', topn=20)"
      ],
      "execution_count": 0,
      "outputs": []
    },
    {
      "cell_type": "code",
      "metadata": {
        "id": "7lzDXWfzxKX3",
        "colab_type": "code",
        "colab": {}
      },
      "source": [
        "word2vec_model_4 = word2vec.Word2Vec(cleaning_list_corpus2_4, min_count=33)\n",
        "#word2vec_model.most_similar('마스크팩', topn=20)"
      ],
      "execution_count": 0,
      "outputs": []
    },
    {
      "cell_type": "code",
      "metadata": {
        "id": "Mg8yR3lqxKaL",
        "colab_type": "code",
        "colab": {}
      },
      "source": [
        "word2vec_model_5 = word2vec.Word2Vec(cleaning_list_corpus2_5, min_count=85)\n",
        "#word2vec_model.most_similar('마스크팩', topn=20)"
      ],
      "execution_count": 0,
      "outputs": []
    },
    {
      "cell_type": "code",
      "metadata": {
        "id": "yUIxePT-xKdl",
        "colab_type": "code",
        "colab": {}
      },
      "source": [
        ""
      ],
      "execution_count": 0,
      "outputs": []
    },
    {
      "cell_type": "code",
      "metadata": {
        "id": "5mPaRvle0uzc",
        "colab_type": "code",
        "outputId": "be1afac2-c831-4d6d-fd58-c95ef0cb3f38",
        "colab": {
          "base_uri": "https://localhost:8080/",
          "height": 53
        }
      },
      "source": [
        "X = word2vec_model[word2vec_model.wv.vocab]"
      ],
      "execution_count": 0,
      "outputs": [
        {
          "output_type": "stream",
          "text": [
            "/usr/local/lib/python3.6/dist-packages/ipykernel_launcher.py:1: DeprecationWarning: Call to deprecated `__getitem__` (Method will be removed in 4.0.0, use self.wv.__getitem__() instead).\n",
            "  \"\"\"Entry point for launching an IPython kernel.\n"
          ],
          "name": "stderr"
        }
      ]
    },
    {
      "cell_type": "code",
      "metadata": {
        "id": "jl6UqYP5SqFu",
        "colab_type": "code",
        "outputId": "c7c8cb04-578c-43af-be29-3dea6f05809c",
        "colab": {
          "base_uri": "https://localhost:8080/",
          "height": 53
        }
      },
      "source": [
        "X_1 = word2vec_model_1[word2vec_model_1.wv.vocab]"
      ],
      "execution_count": 0,
      "outputs": [
        {
          "output_type": "stream",
          "text": [
            "/usr/local/lib/python3.6/dist-packages/ipykernel_launcher.py:1: DeprecationWarning: Call to deprecated `__getitem__` (Method will be removed in 4.0.0, use self.wv.__getitem__() instead).\n",
            "  \"\"\"Entry point for launching an IPython kernel.\n"
          ],
          "name": "stderr"
        }
      ]
    },
    {
      "cell_type": "code",
      "metadata": {
        "id": "m0ipy9GAxQNm",
        "colab_type": "code",
        "outputId": "d108a7ea-9065-41df-d0a5-e908d96a0ab7",
        "colab": {
          "base_uri": "https://localhost:8080/",
          "height": 53
        }
      },
      "source": [
        "X_2 = word2vec_model_2[word2vec_model_2.wv.vocab]"
      ],
      "execution_count": 0,
      "outputs": [
        {
          "output_type": "stream",
          "text": [
            "/usr/local/lib/python3.6/dist-packages/ipykernel_launcher.py:1: DeprecationWarning: Call to deprecated `__getitem__` (Method will be removed in 4.0.0, use self.wv.__getitem__() instead).\n",
            "  \"\"\"Entry point for launching an IPython kernel.\n"
          ],
          "name": "stderr"
        }
      ]
    },
    {
      "cell_type": "code",
      "metadata": {
        "id": "LJ__pSzuxQP-",
        "colab_type": "code",
        "outputId": "2086da6d-872a-4cfd-bde4-b5c3e95abefb",
        "colab": {
          "base_uri": "https://localhost:8080/",
          "height": 53
        }
      },
      "source": [
        "X_3 = word2vec_model_3[word2vec_model_3.wv.vocab]"
      ],
      "execution_count": 0,
      "outputs": [
        {
          "output_type": "stream",
          "text": [
            "/usr/local/lib/python3.6/dist-packages/ipykernel_launcher.py:1: DeprecationWarning: Call to deprecated `__getitem__` (Method will be removed in 4.0.0, use self.wv.__getitem__() instead).\n",
            "  \"\"\"Entry point for launching an IPython kernel.\n"
          ],
          "name": "stderr"
        }
      ]
    },
    {
      "cell_type": "code",
      "metadata": {
        "id": "PFCQ3q6vxQS6",
        "colab_type": "code",
        "outputId": "6d2ec451-ee86-4712-9667-83cca650cf23",
        "colab": {
          "base_uri": "https://localhost:8080/",
          "height": 53
        }
      },
      "source": [
        "X_4 = word2vec_model_4[word2vec_model_4.wv.vocab]"
      ],
      "execution_count": 0,
      "outputs": [
        {
          "output_type": "stream",
          "text": [
            "/usr/local/lib/python3.6/dist-packages/ipykernel_launcher.py:1: DeprecationWarning: Call to deprecated `__getitem__` (Method will be removed in 4.0.0, use self.wv.__getitem__() instead).\n",
            "  \"\"\"Entry point for launching an IPython kernel.\n"
          ],
          "name": "stderr"
        }
      ]
    },
    {
      "cell_type": "code",
      "metadata": {
        "id": "fpwszydTxQVT",
        "colab_type": "code",
        "outputId": "9195ab62-e715-4f4d-a30e-9782c1fe2902",
        "colab": {
          "base_uri": "https://localhost:8080/",
          "height": 53
        }
      },
      "source": [
        "X_5 = word2vec_model_5[word2vec_model_5.wv.vocab]"
      ],
      "execution_count": 0,
      "outputs": [
        {
          "output_type": "stream",
          "text": [
            "/usr/local/lib/python3.6/dist-packages/ipykernel_launcher.py:1: DeprecationWarning: Call to deprecated `__getitem__` (Method will be removed in 4.0.0, use self.wv.__getitem__() instead).\n",
            "  \"\"\"Entry point for launching an IPython kernel.\n"
          ],
          "name": "stderr"
        }
      ]
    },
    {
      "cell_type": "code",
      "metadata": {
        "id": "5pamMcFJxQYQ",
        "colab_type": "code",
        "colab": {}
      },
      "source": [
        ""
      ],
      "execution_count": 0,
      "outputs": []
    },
    {
      "cell_type": "code",
      "metadata": {
        "id": "gf-VZogrxQaa",
        "colab_type": "code",
        "colab": {}
      },
      "source": [
        ""
      ],
      "execution_count": 0,
      "outputs": []
    },
    {
      "cell_type": "code",
      "metadata": {
        "id": "ZWU_p8zgY1kd",
        "colab_type": "code",
        "colab": {}
      },
      "source": [
        "from sklearn.decomposition import PCA"
      ],
      "execution_count": 0,
      "outputs": []
    },
    {
      "cell_type": "code",
      "metadata": {
        "id": "vvmu2BQj0zVN",
        "colab_type": "code",
        "colab": {}
      },
      "source": [
        "pca = PCA(n_components=2)\n",
        "result = pca.fit_transform(X)"
      ],
      "execution_count": 0,
      "outputs": []
    },
    {
      "cell_type": "code",
      "metadata": {
        "id": "iOYOUiJaY5zh",
        "colab_type": "code",
        "colab": {}
      },
      "source": [
        "result_1 = pca.fit_transform(X_1)"
      ],
      "execution_count": 0,
      "outputs": []
    },
    {
      "cell_type": "code",
      "metadata": {
        "id": "HPYgEGYlgRzm",
        "colab_type": "code",
        "colab": {}
      },
      "source": [
        "result_2 = pca.fit_transform(X_2)"
      ],
      "execution_count": 0,
      "outputs": []
    },
    {
      "cell_type": "code",
      "metadata": {
        "id": "1a7C9HHCxZnv",
        "colab_type": "code",
        "colab": {}
      },
      "source": [
        "result_3 = pca.fit_transform(X_3)"
      ],
      "execution_count": 0,
      "outputs": []
    },
    {
      "cell_type": "code",
      "metadata": {
        "id": "wLVBMFwgxZqV",
        "colab_type": "code",
        "colab": {}
      },
      "source": [
        "result_4 = pca.fit_transform(X_4)"
      ],
      "execution_count": 0,
      "outputs": []
    },
    {
      "cell_type": "code",
      "metadata": {
        "id": "KnM1HHbUxZvd",
        "colab_type": "code",
        "colab": {}
      },
      "source": [
        "result_5 = pca.fit_transform(X_5)"
      ],
      "execution_count": 0,
      "outputs": []
    },
    {
      "cell_type": "code",
      "metadata": {
        "id": "9zt1WruhxZy4",
        "colab_type": "code",
        "colab": {}
      },
      "source": [
        ""
      ],
      "execution_count": 0,
      "outputs": []
    },
    {
      "cell_type": "code",
      "metadata": {
        "id": "SDHAjer9xZ1T",
        "colab_type": "code",
        "colab": {}
      },
      "source": [
        ""
      ],
      "execution_count": 0,
      "outputs": []
    },
    {
      "cell_type": "code",
      "metadata": {
        "id": "U53AmSIvxZ4F",
        "colab_type": "code",
        "colab": {}
      },
      "source": [
        ""
      ],
      "execution_count": 0,
      "outputs": []
    },
    {
      "cell_type": "code",
      "metadata": {
        "id": "AElK2f4_7y3y",
        "colab_type": "code",
        "colab": {}
      },
      "source": [
        "from sklearn.preprocessing import StandardScaler"
      ],
      "execution_count": 0,
      "outputs": []
    },
    {
      "cell_type": "code",
      "metadata": {
        "id": "t2TLXozN03jU",
        "colab_type": "code",
        "outputId": "944206f8-a5ac-443e-f5f5-0cdc1a2a26e2",
        "colab": {
          "base_uri": "https://localhost:8080/",
          "height": 594
        }
      },
      "source": [
        "# 전체\n",
        "plt.figure(figsize=(20, 10))\n",
        "\n",
        "plt.scatter(StandardScaler().fit_transform(result[:, 0].reshape(-1, 1)), StandardScaler().fit_transform(result[:, 1].reshape(-1, 1)),color='black',marker='s') # 전체일자\n",
        "# plt.scatter(StandardScaler().fit_transform(result_1[:, 0].reshape(-1, 1)), StandardScaler().fit_transform(result_1[:, 1].reshape(-1, 1)),color='r',marker='^') # 높은날씨\n",
        "# plt.scatter(StandardScaler().fit_transform(result_2[:, 0].reshape(-1, 1)), StandardScaler().fit_transform(result_2[:, 1].reshape(-1, 1)),color='b',marker='o') # 낮은날씨\n",
        "# plt.scatter(StandardScaler().fit_transform(result_3[:, 0].reshape(-1, 1)), StandardScaler().fit_transform(result_3[:, 1].reshape(-1, 1)),color='g',marker='v') # 높은습도\n",
        "# plt.scatter(StandardScaler().fit_transform(result_4[:, 0].reshape(-1, 1)), StandardScaler().fit_transform(result_4[:, 1].reshape(-1, 1)),color='y',marker='o') # 낮은습도\n",
        "plt.scatter(StandardScaler().fit_transform(result_5[:, 0].reshape(-1, 1)), StandardScaler().fit_transform(result_5[:, 1].reshape(-1, 1)),color='m',marker='+') # 비오는날\n",
        "\n",
        "\n",
        "\n",
        "words = list(word2vec_model.wv.vocab)\n",
        "words_1 = list(word2vec_model_1.wv.vocab)\n",
        "words_2 = list(word2vec_model_2.wv.vocab)\n",
        "words_3 = list(word2vec_model_3.wv.vocab)\n",
        "words_4 = list(word2vec_model_4.wv.vocab)\n",
        "words_5 = list(word2vec_model_5.wv.vocab)\n",
        "\n",
        "\n",
        "for u, total in enumerate(words):\n",
        "  plt.annotate(total, xy= (StandardScaler().fit_transform(result[:,0].reshape(-1,1))[u], StandardScaler().fit_transform(result[:,1].reshape(-1,1))[u]), fontsize=13)\n",
        "\n",
        "# for i, ht in enumerate(words_1):\n",
        "# \tplt.annotate(ht, xy=(StandardScaler().fit_transform(result_1[:, 0].reshape(-1, 1))[i], StandardScaler().fit_transform(result_1[:, 1].reshape(-1, 1))[i]), fontsize=13)\n",
        "# for j, lt in enumerate(words_2):\n",
        "#   plt.annotate(lt, xy=(StandardScaler().fit_transform(result_2[:, 0].reshape(-1, 1))[j], StandardScaler().fit_transform(result_2[:, 1].reshape(-1, 1))[j]), fontsize=13)\n",
        "# for k, hh in enumerate(words_3):\n",
        "#   plt.annotate(hh, xy=(StandardScaler().fit_transform(result_3[:, 0].reshape(-1, 1))[k], StandardScaler().fit_transform(result_3[:, 1].reshape(-1, 1))[k]), fontsize=13)\n",
        "# for l, lh in enumerate(words_4):\n",
        "#   plt.annotate(lh, xy=(StandardScaler().fit_transform(result_4[:, 0].reshape(-1, 1))[l], StandardScaler().fit_transform(result_4[:, 1].reshape(-1, 1))[l]), fontsize=13)\n",
        "for m, rain in enumerate(words_5):\n",
        "  plt.annotate(rain, xy=(StandardScaler().fit_transform(result_5[:, 0].reshape(-1, 1))[m], StandardScaler().fit_transform(result_5[:, 1].reshape(-1, 1))[m]), fontsize=13)\n",
        "\n",
        "  \n",
        "plt.legend(['Total','Rainy'],loc=4)  \n",
        "#plt.legend(['high_temp','low_temp','high_hu','low_hu','Rainy day'],loc=4)\n",
        "plt.show()"
      ],
      "execution_count": 0,
      "outputs": [
        {
          "output_type": "display_data",
          "data": {
            "image/png": "[encoded data removed]",
            "text/plain": [
              "<Figure size 1440x720 with 1 Axes>"
            ]
          },
          "metadata": {
            "tags": []
          }
        }
      ]
    },
    {
      "cell_type": "code",
      "metadata": {
        "id": "AC4Amv1AxmlA",
        "colab_type": "code",
        "colab": {}
      },
      "source": [
        "# # 선케어(날씨 컨디션별)\n",
        "# plt.figure(figsize=(20, 10))\n",
        "# plt.scatter(StandardScaler().fit_transform(result_1[:, 0].reshape(-1, 1)), StandardScaler().fit_transform(result_1[:, 1].reshape(-1, 1)),color='r',marker='^')\n",
        "# plt.scatter(StandardScaler().fit_transform(result_2[:, 0].reshape(-1, 1)), StandardScaler().fit_transform(result_2[:, 1].reshape(-1, 1)),color='b',marker='o')\n",
        "# plt.scatter(StandardScaler().fit_transform(result_3[:, 0].reshape(-1, 1)), StandardScaler().fit_transform(result_3[:, 1].reshape(-1, 1)),color='g',marker='o')\n",
        "# plt.scatter(StandardScaler().fit_transform(result_4[:, 0].reshape(-1, 1)), StandardScaler().fit_transform(result_4[:, 1].reshape(-1, 1)),color='y',marker='o')\n",
        "# plt.scatter(StandardScaler().fit_transform(result_5[:, 0].reshape(-1, 1)), StandardScaler().fit_transform(result_5[:, 1].reshape(-1, 1)),color='m',marker='o')\n",
        "\n",
        "\n",
        "\n",
        "# words_1 = list(word2vec_model_1.wv.vocab)\n",
        "# words_2 = list(word2vec_model_2.wv.vocab)\n",
        "# words_3 = list(word2vec_model_3.wv.vocab)\n",
        "# words_4 = list(word2vec_model_4.wv.vocab)\n",
        "# words_5 = list(word2vec_model_5.wv.vocab)\n",
        "\n",
        "\n",
        "# for i, ht in enumerate(words_1):\n",
        "# \tplt.annotate(ht, xy=(StandardScaler().fit_transform(result_1[:, 0].reshape(-1, 1))[i], StandardScaler().fit_transform(result_1[:, 1].reshape(-1, 1))[i]), fontsize=13)\n",
        "# for j, lt in enumerate(words_2):\n",
        "#   plt.annotate(lt, xy=(StandardScaler().fit_transform(result_2[:, 0].reshape(-1, 1))[j], StandardScaler().fit_transform(result_2[:, 1].reshape(-1, 1))[j]), fontsize=13)\n",
        "# for k, hh in enumerate(words_3):\n",
        "#   plt.annotate(hh, xy=(StandardScaler().fit_transform(result_3[:, 0].reshape(-1, 1))[k], StandardScaler().fit_transform(result_3[:, 1].reshape(-1, 1))[k]), fontsize=13)\n",
        "# for l, lh in enumerate(words_4):\n",
        "#   plt.annotate(lh, xy=(StandardScaler().fit_transform(result_4[:, 0].reshape(-1, 1))[l], StandardScaler().fit_transform(result_4[:, 1].reshape(-1, 1))[l]), fontsize=13)\n",
        "# for m, rain in enumerate(words_5):\n",
        "#   plt.annotate(rain, xy=(StandardScaler().fit_transform(result_5[:, 0].reshape(-1, 1))[m], StandardScaler().fit_transform(result_5[:, 1].reshape(-1, 1))[m]), fontsize=13)\n",
        "\n",
        "  \n",
        "\n",
        "# # plt.legend(['high_temp','low_temp',],loc=4)  \n",
        "# plt.legend(['high_temp','low_temp','high_hu','low_hu','Rainy day'],loc=4)\n",
        "# plt.show()"
      ],
      "execution_count": 0,
      "outputs": []
    }
  ]
}